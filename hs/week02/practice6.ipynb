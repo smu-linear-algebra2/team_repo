{
  "nbformat": 4,
  "nbformat_minor": 0,
  "metadata": {
    "colab": {
      "provenance": [],
      "authorship_tag": "ABX9TyMtOw2/nmxiY5oqbb1VMAti",
      "include_colab_link": true
    },
    "kernelspec": {
      "name": "python3",
      "display_name": "Python 3"
    },
    "language_info": {
      "name": "python"
    }
  },
  "cells": [
    {
      "cell_type": "markdown",
      "metadata": {
        "id": "view-in-github",
        "colab_type": "text"
      },
      "source": [
        "<a href=\"https://colab.research.google.com/github/smu-linear-algebra2/hs/blob/main/practice6.ipynb\" target=\"_parent\"><img src=\"https://colab.research.google.com/assets/colab-badge.svg\" alt=\"Open In Colab\"/></a>"
      ]
    },
    {
      "cell_type": "code",
      "execution_count": 1,
      "metadata": {
        "colab": {
          "base_uri": "https://localhost:8080/"
        },
        "id": "exL9e0HLaVbh",
        "outputId": "e56aa724-d81d-460e-8a4a-dbf218bb8023"
      },
      "outputs": [
        {
          "output_type": "stream",
          "name": "stdout",
          "text": [
            "{'name': 'Daesik', 'town': 'Yongin city', 'job': 'Assistant professor'}\n"
          ]
        }
      ],
      "source": [
        "dic = dict()\n",
        "dic[\"name\"] = \"Daesik\"\n",
        "dic[\"town\"] = \"Yongin city\"\n",
        "dic[\"job\"] = \"Assistant professor\"\n",
        "print(dic)"
      ]
    }
  ]
}
