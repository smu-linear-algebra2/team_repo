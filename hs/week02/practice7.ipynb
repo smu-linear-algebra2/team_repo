{
  "nbformat": 4,
  "nbformat_minor": 0,
  "metadata": {
    "colab": {
      "provenance": [],
      "authorship_tag": "ABX9TyOltzDaLicpZDIOKHKlLxOL",
      "include_colab_link": true
    },
    "kernelspec": {
      "name": "python3",
      "display_name": "Python 3"
    },
    "language_info": {
      "name": "python"
    }
  },
  "cells": [
    {
      "cell_type": "markdown",
      "metadata": {
        "id": "view-in-github",
        "colab_type": "text"
      },
      "source": [
        "<a href=\"https://colab.research.google.com/github/smu-linear-algebra2/hs/blob/main/practice7.ipynb\" target=\"_parent\"><img src=\"https://colab.research.google.com/assets/colab-badge.svg\" alt=\"Open In Colab\"/></a>"
      ]
    },
    {
      "cell_type": "code",
      "execution_count": 1,
      "metadata": {
        "colab": {
          "base_uri": "https://localhost:8080/"
        },
        "id": "AnpZMPFdaw7C",
        "outputId": "8d59ddb9-ae7f-43ab-c161-3d9bc2883ae5"
      },
      "outputs": [
        {
          "output_type": "stream",
          "name": "stdout",
          "text": [
            "Daesik 학생은 공부합니다.\n",
            "Daesik 학생은 열심히 공부합니다.\n"
          ]
        }
      ],
      "source": [
        "class Student:\n",
        "  # 생성자\n",
        "  def __init__(self, name):\n",
        "    self.name = name\n",
        "\n",
        "  # 메써드\n",
        "  def study(self, hard=False):\n",
        "    if hard:\n",
        "      print(\"%s 학생은 열심히 공부합니다.\" %self.name)\n",
        "    else:\n",
        "      print(\"%s 학생은 공부합니다.\" %self.name)\n",
        "\n",
        "s = Student('Daesik')\n",
        "s.study()\n",
        "s.study(hard=True)"
      ]
    }
  ]
}
