{
  "nbformat": 4,
  "nbformat_minor": 0,
  "metadata": {
    "colab": {
      "provenance": [],
      "authorship_tag": "ABX9TyPe0Bh1ZX0nl6nhJpn74QG2",
      "include_colab_link": true
    },
    "kernelspec": {
      "name": "python3",
      "display_name": "Python 3"
    },
    "language_info": {
      "name": "python"
    }
  },
  "cells": [
    {
      "cell_type": "markdown",
      "metadata": {
        "id": "view-in-github",
        "colab_type": "text"
      },
      "source": [
        "<a href=\"https://colab.research.google.com/github/smu-linear-algebra2/hs/blob/main/3%EC%A3%BC%EC%B0%A8_practice06.ipynb\" target=\"_parent\"><img src=\"https://colab.research.google.com/assets/colab-badge.svg\" alt=\"Open In Colab\"/></a>"
      ]
    },
    {
      "cell_type": "code",
      "execution_count": 1,
      "metadata": {
        "colab": {
          "base_uri": "https://localhost:8080/",
          "height": 432
        },
        "id": "beDVK4UuhgOi",
        "outputId": "f0c28608-505c-445f-85b3-887ec45efbac"
      },
      "outputs": [
        {
          "output_type": "display_data",
          "data": {
            "text/plain": [
              "<Figure size 640x480 with 1 Axes>"
            ],
            "image/png": "[encoded data removed]"
          },
          "metadata": {}
        }
      ],
      "source": [
        "import numpy as np\n",
        "import matplotlib.pyplot as plt\n",
        "\n",
        "a = np.array([4,1])\n",
        "b = np.array([-2,3])\n",
        "sum = a+b\n",
        "\n",
        "fig = plt.figure()\n",
        "ax = fig.add_subplot(1,1,1)\n",
        "\n",
        "ax.quiver(0,0,a[0],a[1], angles='xy', scale_units='xy', scale=1, color='blue')\n",
        "ax.text(a[0], a[1], 'a', size=15)\n",
        "\n",
        "ax.quiver(a[0],a[1],b[0],b[1], angles='xy', scale_units='xy', scale=1, color='green')\n",
        "ax.text(a[0]+b[0], a[1]+b[1], 'b', size=15)\n",
        "\n",
        "ax.quiver(0,0,sum[0], sum[1], angles='xy', scale_units='xy', scale=1, color='red')\n",
        "ax.text(sum[0]*0.5+0.3, b[1], 'a+b', size=15, color='blue')\n",
        "\n",
        "ax.set_xticks(range(0,7))\n",
        "ax.set_yticks(range(0,7))\n",
        "ax.grid()\n",
        "ax.set_axisbelow(True)\n",
        "ax.set_aspect('equal', adjustable='box')\n",
        "\n",
        "ax.spines['left'].set_position('zero')\n",
        "ax.spines['bottom'].set_position('zero')\n",
        "ax.spines['right'].set_position('zero')\n",
        "ax.spines['top'].set_position('zero')\n",
        "plt.show()"
      ]
    }
  ]
}
