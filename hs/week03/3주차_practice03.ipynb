{
  "nbformat": 4,
  "nbformat_minor": 0,
  "metadata": {
    "colab": {
      "provenance": [],
      "authorship_tag": "ABX9TyPpnvMoIEtg07v+00rGYARd",
      "include_colab_link": true
    },
    "kernelspec": {
      "name": "python3",
      "display_name": "Python 3"
    },
    "language_info": {
      "name": "python"
    }
  },
  "cells": [
    {
      "cell_type": "markdown",
      "metadata": {
        "id": "view-in-github",
        "colab_type": "text"
      },
      "source": [
        "<a href=\"https://colab.research.google.com/github/smu-linear-algebra2/hs/blob/main/3%EC%A3%BC%EC%B0%A8_practice3.ipynb\" target=\"_parent\"><img src=\"https://colab.research.google.com/assets/colab-badge.svg\" alt=\"Open In Colab\"/></a>"
      ]
    },
    {
      "cell_type": "code",
      "execution_count": 1,
      "metadata": {
        "id": "y8uUAKP7aHQF"
      },
      "outputs": [],
      "source": [
        "import numpy as np\n",
        "import matplotlib.pyplot as plt"
      ]
    },
    {
      "cell_type": "code",
      "source": [
        "# 벡터 A와 B를 생성합니다.\n",
        "A = np.array([1, -2])\n",
        "B = np.array([4, 3])\n",
        "\n",
        "# 1개의 행과 2개의 열을 가지는 서브플룻을 생성\n",
        "f, ax = plt.subplots(1,2)\n",
        "ax[0].title.set_text('A')\n",
        "ax[1].title.set_text('B')\n",
        "\n",
        "# 서브플룻에 시작점이 (0,0)인 벡터를 그린다\n",
        "ax[0].quiver(0,0,A[0],A[1],angles='xy', scale_units='xy', scale=1)\n",
        "ax[1].quiver(0,0,B[0],B[1],angles='xy', scale_units='xy', scale=1)\n",
        "\n",
        "# 서브플룻별로 그리드 생성\n",
        "start_x = -1\n",
        "end_x = 5\n",
        "start_y = -3\n",
        "end_y = 4\n",
        "\n",
        "for i in range(2):\n",
        "  ax[i].axis([start_x, end_x, start_y, end_y])\n",
        "  ax[i].set_xticks(range(start_x, end_x))\n",
        "  ax[i].set_yticks(range(start_y, end_y))\n",
        "  ax[i].grid(True)\n",
        "  ax[i].set_aspect('equal', adjustable='box')\n",
        "\n",
        "plt.show()"
      ],
      "metadata": {
        "colab": {
          "base_uri": "https://localhost:8080/",
          "height": 346
        },
        "id": "b1wwKeiraR_W",
        "outputId": "9540984d-605f-4a40-f74f-be05be15d8ef"
      },
      "execution_count": 5,
      "outputs": [
        {
          "output_type": "display_data",
          "data": {
            "text/plain": [
              "<Figure size 640x480 with 2 Axes>"
            ],
            "image/png": "[encoded data removed]"
          },
          "metadata": {}
        }
      ]
    }
  ]
}
