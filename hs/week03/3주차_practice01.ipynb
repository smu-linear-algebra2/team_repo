{
  "nbformat": 4,
  "nbformat_minor": 0,
  "metadata": {
    "colab": {
      "provenance": [],
      "authorship_tag": "ABX9TyPw2MIEACjQLAM08aWY/YC9",
      "include_colab_link": true
    },
    "kernelspec": {
      "name": "python3",
      "display_name": "Python 3"
    },
    "language_info": {
      "name": "python"
    }
  },
  "cells": [
    {
      "cell_type": "markdown",
      "metadata": {
        "id": "view-in-github",
        "colab_type": "text"
      },
      "source": [
        "<a href=\"https://colab.research.google.com/github/smu-linear-algebra2/hs/blob/main/3%EC%A3%BC%EC%B0%A8_practice1.ipynb\" target=\"_parent\"><img src=\"https://colab.research.google.com/assets/colab-badge.svg\" alt=\"Open In Colab\"/></a>"
      ]
    },
    {
      "cell_type": "code",
      "execution_count": 1,
      "metadata": {
        "id": "VObq21LVVF7F"
      },
      "outputs": [],
      "source": [
        "import numpy as np\n",
        "import matplotlib.pyplot as plt"
      ]
    },
    {
      "cell_type": "code",
      "source": [
        "a = np.array([4,3])\n",
        "\n",
        "# Figure객체를 만든 후\n",
        "fig = plt.figure()\n",
        "\n",
        "# 1x1 개의 서브플룻을 추가, 첫 번째 서브플룻을 사용\n",
        "ax = fig.add_subplot(1,1,1)\n",
        "\n",
        "# 변수 a의 값을 좌표로 사용하여 점을 그린다.\n",
        "# a[0]이 x좌표, a[1]이 y좌표, s는 점의 크기\n",
        "ax.scatter(a[0],a[1], s=30)\n",
        "\n",
        "# 점 옆에 문자 a를 표시, size는 문자의 크기\n",
        "ax.text(a[0]+0.2, a[1]+0.2, 'a', size=15)\n",
        "\n",
        "# x축, y축 눈금 범위를 -5~5로 지정\n",
        "ax.set_xticks(range(-5,6))\n",
        "ax.set_yticks(range(-5,6))\n",
        "\n",
        "# 그리드를 좌표축 아래에 표시\n",
        "ax.grid()\n",
        "ax.set_axisbelow(True)\n",
        "\n",
        "# x축과 y축 눈금의 비율을 1:1로 함\n",
        "# 창의 크기를 변경해도 비율이 유지됨\n",
        "ax.set_aspect('equal', adjustable='box')\n",
        "\n",
        "# 다음 코드를 사용하여 원점에 좌표축이 보이게함\n",
        "# 왼쪽 y축과 아래 x축을 (0,0)으로 이동\n",
        "ax.spines['left'].set_position('zero')\n",
        "ax.spines['bottom'].set_position('zero')\n",
        "\n",
        "# 위쪽과 오른쪽 축을 제거\n",
        "ax.spines['right'].set_color('none')\n",
        "ax.spines['top'].set_color('none')\n",
        "plt.show()"
      ],
      "metadata": {
        "colab": {
          "base_uri": "https://localhost:8080/",
          "height": 420
        },
        "id": "pVqu6oVhVYtJ",
        "outputId": "c36bd5c4-4c69-42b6-d8c2-f65d8958fd00"
      },
      "execution_count": 4,
      "outputs": [
        {
          "output_type": "display_data",
          "data": {
            "text/plain": [
              "<Figure size 640x480 with 1 Axes>"
            ],
            "image/png": "[encoded data removed]"
          },
          "metadata": {}
        }
      ]
    },
    {
      "cell_type": "code",
      "source": [],
      "metadata": {
        "id": "YwqlXrelX-bI"
      },
      "execution_count": null,
      "outputs": []
    }
  ]
}
